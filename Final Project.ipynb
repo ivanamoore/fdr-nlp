{
 "cells": [
  {
   "cell_type": "code",
   "execution_count": 135,
   "metadata": {
    "colab": {
     "base_uri": "https://localhost:8080/",
     "height": 51
    },
    "colab_type": "code",
    "id": "gSlYJMMKtZ10",
    "outputId": "db2c9242-5bf3-4862-ce14-723fd0c8268e"
   },
   "outputs": [
    {
     "name": "stdout",
     "output_type": "stream",
     "text": [
      "start\n",
      "done\n"
     ]
    }
   ],
   "source": [
    "print('start')\n",
    "\n",
    "import matplotlib.pyplot as plt\n",
    "from matplotlib import dates\n",
    "import seaborn as sns\n",
    "\n",
    "import pandas as pd\n",
    "import numpy as np\n",
    "\n",
    "from sklearn.feature_extraction.text import CountVectorizer\n",
    "from sklearn.metrics.pairwise import cosine_similarity as cs\n",
    "from nltk.corpus import stopwords\n",
    "\n",
    "\n",
    "\n",
    "import requests\n",
    "from bs4 import BeautifulSoup \n",
    "\n",
    "\n",
    "from random import uniform\n",
    "from time import sleep\n",
    "\n",
    "import datetime as dt\n",
    "\n",
    "print('done')"
   ]
  },
  {
   "cell_type": "markdown",
   "metadata": {},
   "source": [
    "# Data Collection and Processing"
   ]
  },
  {
   "cell_type": "markdown",
   "metadata": {},
   "source": [
    "## Data Collection"
   ]
  },
  {
   "cell_type": "markdown",
   "metadata": {},
   "source": [
    "### Press Data"
   ]
  },
  {
   "cell_type": "code",
   "execution_count": 31,
   "metadata": {
    "scrolled": true
   },
   "outputs": [
    {
     "name": "stdout",
     "output_type": "stream",
     "text": [
      "start\n",
      "done\n"
     ]
    }
   ],
   "source": [
    "print('start')\n",
    "\n",
    "URL = 'https://www.presidency.ucsb.edu/'\n",
    "\n",
    "request_params = {\n",
    "    'person2': '200288',\n",
    "    'category2[]': '12',\n",
    "    'items_per_page': '100'}\n",
    "fdr_press_date =[]\n",
    "fdr_press_link=[]\n",
    "\n",
    "pres_response = requests.get(url=URL + 'advanced-search/',\n",
    "                                   params=request_params)\n",
    "\n",
    "pres_html = pres_response.text\n",
    "parsed = BeautifulSoup(pres_html, 'html.parser')\n",
    "d = parsed.find('li', {'class':'pager-last'})\n",
    "for link in d.findAll('a'):\n",
    "    NUMPAGES = int(link.get('href')[-1])\n",
    "    #range(0, NUMPAGES +1 )\n",
    "\n",
    "for page in range(0, NUMPAGES+1):\n",
    "    request_params.update({'page': str(page)})\n",
    "    pres_response = requests.get(url=URL + 'advanced-search/', params=request_params)\n",
    "    pres_html = pres_response.text\n",
    "    parsed = BeautifulSoup(pres_html, 'html.parser')\n",
    "    a = parsed.find('table', {'class':'views-table sticky-enabled cols-3 table table-striped table-0 table-0 table-0'})\n",
    "    b=a.find_all('td', {'class': 'views-field views-field-field-docs-start-date-time-value text-nowrap'})\n",
    "    check=0\n",
    "    for i in b:\n",
    "        fdr_press_date.append(i.get_text().replace('\\n',''))\n",
    "\n",
    "\n",
    "    for link in a.findAll('a'):\n",
    "        if link.get('href').startswith('/documents'):\n",
    "            fdr_press_link.append(link.get('href'))\n",
    "            \n",
    "\n",
    "fdr_press_text=[]\n",
    "URL = 'https://www.presidency.ucsb.edu/'\n",
    "\n",
    "for i in fdr_press_link:\n",
    "    pres_response = requests.get(url=URL + i)\n",
    "    pres_html = pres_response.text\n",
    "    parsed = BeautifulSoup(pres_html, 'html.parser')\n",
    "    a = parsed.find('div', {'class':'field-docs-content'}).get_text()\n",
    "    fdr_press_text.append(a)\n",
    "\n",
    "print('done')\n",
    "\n",
    "\n"
   ]
  },
  {
   "cell_type": "markdown",
   "metadata": {},
   "source": [
    "### Policy Data"
   ]
  },
  {
   "cell_type": "code",
   "execution_count": 32,
   "metadata": {
    "scrolled": true
   },
   "outputs": [
    {
     "name": "stdout",
     "output_type": "stream",
     "text": [
      "start\n",
      "done\n"
     ]
    }
   ],
   "source": [
    "print('start')\n",
    "\n",
    "URL = 'https://www.presidency.ucsb.edu/'\n",
    "\n",
    "request_params = {\n",
    "    'person2': '200288',\n",
    "    'category2[]': ['84','58','45'],\n",
    "    'items_per_page': '100'}\n",
    "fdr_policy_date =[]\n",
    "fdr_policy_link=[]\n",
    "\n",
    "pres_response = requests.get(url=URL + 'advanced-search/',\n",
    "                                   params=request_params)\n",
    "\n",
    "pres_html = pres_response.text\n",
    "parsed = BeautifulSoup(pres_html, 'html.parser')\n",
    "d = parsed.find('li', {'class':'pager-last'})\n",
    "for link in d.findAll('a'):\n",
    "    NUMPAGES = int(link.get('href')[-1])\n",
    "    #range(0, NUMPAGES +1 )\n",
    "\n",
    "for page in range(0, NUMPAGES+1):\n",
    "    request_params.update({'page': str(page)})\n",
    "    pres_response = requests.get(url=URL + 'advanced-search/', params=request_params)\n",
    "    pres_html = pres_response.text\n",
    "    parsed = BeautifulSoup(pres_html, 'html.parser')\n",
    "    a = parsed.find('table', {'class':'views-table sticky-enabled cols-3 table table-striped table-0 table-0 table-0'})\n",
    "    b=a.find_all('td', {'class': 'views-field views-field-field-docs-start-date-time-value text-nowrap'})\n",
    "    check=0\n",
    "    for i in b:\n",
    "        fdr_policy_date.append(i.get_text().replace('\\n',''))\n",
    "\n",
    "\n",
    "    for link in a.findAll('a'):\n",
    "        if link.get('href').startswith('/documents'):\n",
    "            fdr_policy_link.append(link.get('href'))\n",
    "\n",
    "fdr_policy_text=[]\n",
    "URL = 'https://www.presidency.ucsb.edu/'\n",
    "\n",
    "for i in fdr_policy_link:\n",
    "    pres_response = requests.get(url=URL + i)\n",
    "    pres_html = pres_response.text\n",
    "    parsed = BeautifulSoup(pres_html, 'html.parser')\n",
    "    a = parsed.find('div', {'class':'field-docs-content'}).get_text()\n",
    "    fdr_policy_text.append(a)\n",
    "    \n",
    "\n",
    "print('done')\n",
    "\n"
   ]
  },
  {
   "cell_type": "markdown",
   "metadata": {},
   "source": [
    "### Public Data"
   ]
  },
  {
   "cell_type": "code",
   "execution_count": 33,
   "metadata": {},
   "outputs": [
    {
     "name": "stdout",
     "output_type": "stream",
     "text": [
      "start\n",
      "done\n"
     ]
    }
   ],
   "source": [
    "print('start')\n",
    "\n",
    "URL = 'https://www.presidency.ucsb.edu/'\n",
    "\n",
    "request_params = {\n",
    "    'person2': '200288',\n",
    "    'category2[]': ['46','53'],\n",
    "    'items_per_page': '100'}\n",
    "fdr_public_date =[]\n",
    "fdr_public_link=[]\n",
    "\n",
    "pres_response = requests.get(url=URL + 'advanced-search/',\n",
    "                                   params=request_params)\n",
    "\n",
    "pres_html = pres_response.text\n",
    "parsed = BeautifulSoup(pres_html, 'html.parser')\n",
    "d = parsed.find('li', {'class':'pager-last'})\n",
    "#for link in d.findAll('a'):\n",
    " #   NUMPAGES = int(link.get('href')[-1])\n",
    "    #range(0, NUMPAGES +1 )\n",
    "\n",
    "for page in range(0, 1):\n",
    "    request_params.update({'page': str(page)})\n",
    "    pres_response = requests.get(url=URL + 'advanced-search/', params=request_params)\n",
    "    pres_html = pres_response.text\n",
    "    parsed = BeautifulSoup(pres_html, 'html.parser')\n",
    "    a = parsed.find('table', {'class':'views-table sticky-enabled cols-3 table table-striped table-0 table-0 table-0'})\n",
    "    b=a.find_all('td', {'class': 'views-field views-field-field-docs-start-date-time-value text-nowrap'})\n",
    "    check=0\n",
    "    for i in b:\n",
    "        fdr_public_date.append(i.get_text().replace('\\n',''))\n",
    "\n",
    "\n",
    "    for link in a.findAll('a'):\n",
    "        if link.get('href').startswith('/documents'):\n",
    "            fdr_public_link.append(link.get('href'))\n",
    "\n",
    "\n",
    "fdr_public_text=[]\n",
    "URL = 'https://www.presidency.ucsb.edu/'\n",
    "\n",
    "for i in fdr_public_link:\n",
    "    pres_response = requests.get(url=URL + i)\n",
    "    pres_html = pres_response.text\n",
    "    parsed = BeautifulSoup(pres_html, 'html.parser')\n",
    "    a = parsed.find('div', {'class':'field-docs-content'}).get_text()\n",
    "    fdr_public_text.append(a)\n",
    "\n",
    "print('done')\n",
    "\n"
   ]
  },
  {
   "cell_type": "markdown",
   "metadata": {},
   "source": [
    "### DNC Party Platform Data"
   ]
  },
  {
   "cell_type": "code",
   "execution_count": 43,
   "metadata": {},
   "outputs": [
    {
     "name": "stdout",
     "output_type": "stream",
     "text": [
      "start\n",
      "done\n"
     ]
    }
   ],
   "source": [
    "print('start')\n",
    "\n",
    "url_1932 = 'https://www.presidency.ucsb.edu/documents/1932-democratic-party-platform'\n",
    "url_1936 = 'https://www.presidency.ucsb.edu/documents/1936-democratic-party-platform'\n",
    "url_1940 = 'https://www.presidency.ucsb.edu/documents/1940-democratic-party-platform'\n",
    "url_1944 = 'https://www.presidency.ucsb.edu/documents/1944-democratic-party-platform'\n",
    "\n",
    "dnc_urls = [url_1932, url_1936, url_1940, url_1944]\n",
    "dnc_date = [FIRSTDNC, SECONDDNC, THIRDDNC, FOURTHDNC]\n",
    "def dnc_to_dataframe(dnc_urls):\n",
    "\n",
    "    dnc_text=[]\n",
    "\n",
    "\n",
    "    for URL in dnc_urls:\n",
    "        pres_response = requests.get(url=URL)\n",
    "        pres_html = pres_response.text\n",
    "        parsed = BeautifulSoup(pres_html, 'html.parser')\n",
    "        a = parsed.find('div', {'class':'field-docs-content'}).get_text()\n",
    "        dnc_text.append(a)\n",
    "    return (pd.DataFrame({'Date':dnc_date,'Text':dnc_text, 'DNC':list(range(1,5))},index= list(range(0, len(dnc_text)))))\n",
    "\n",
    "\n",
    "dnc_df = dnc_to_dataframe(dnc_urls)\n",
    "print('done')"
   ]
  },
  {
   "cell_type": "markdown",
   "metadata": {},
   "source": [
    "## Creating the DataFrame"
   ]
  },
  {
   "cell_type": "code",
   "execution_count": 44,
   "metadata": {},
   "outputs": [],
   "source": [
    "fdr_press_indicator = np.repeat('press', len(fdr_press_link)).tolist()\n",
    "fdr_policy_indicator =np.repeat('policy', len(fdr_policy_link)).tolist()\n",
    "fdr_public_indicator = np.repeat('public', len(fdr_public_link)).tolist()\n",
    "\n",
    "fdr_categories = fdr_press_indicator + fdr_policy_indicator + fdr_public_indicator"
   ]
  },
  {
   "cell_type": "code",
   "execution_count": 91,
   "metadata": {},
   "outputs": [],
   "source": [
    "fdr_president_press = pd.DataFrame({'Date':fdr_press_date,'Text':fdr_press_text}, index= list(range(0, len(fdr_press_text))))\n",
    "fdr_president_policy = pd.DataFrame({'Date':fdr_policy_date,'Text':fdr_policy_text}, index= list(range(0, len(fdr_policy_text))))\n",
    "fdr_president_public = pd.DataFrame({'Date':fdr_public_date,'Text':fdr_public_text}, index= list(range(0, len(fdr_public_text))))\n",
    "fdr_president = pd.concat([fdr_president_press,fdr_president_policy,fdr_president_public], ignore_index = True, sort = False)\n",
    "fdr_president['categories'] = fdr_categories\n",
    "fdr_president['Date']= pd.to_datetime(fdr_president['Date'], errors = 'coerce')\n",
    "fdr_president = fdr_president.sort_values(['Date'])\n",
    "fdr_president = fdr_president.reset_index(drop=True)\n",
    "\n",
    "fdr_president['term_code'] = None\n",
    "fdr_president['dnc_code'] = None\n",
    "fdr_president['days_since_dnc'] = None\n"
   ]
  },
  {
   "cell_type": "code",
   "execution_count": 92,
   "metadata": {},
   "outputs": [],
   "source": [
    "fdr_president_dnc = fdr_president.append(dnc_df, sort = False)\n",
    "fdr_president_dnc = fdr_president_dnc.sort_values(['Date'])\n",
    "fdr_president_dnc = fdr_president_dnc.reset_index(drop=True)\n",
    "\n",
    "fdr_president_dnc['Year'] = pd.DatetimeIndex(fdr_president_dnc['Date']).year"
   ]
  },
  {
   "cell_type": "code",
   "execution_count": 93,
   "metadata": {},
   "outputs": [],
   "source": [
    "FIRSTINAUG = dt.datetime(1933,3,4)\n",
    "SECONDINAUG = dt.datetime(1937,1,20)\n",
    "THIRDINAUG = dt.datetime(1941,1,20)\n",
    "FOURTHINAUG = dt.datetime(1945,1,20)\n",
    "\n",
    "for i in range(0,len(fdr_president)):\n",
    "    if fdr_president.loc[i, 'Date']<FIRSTINAUG:\n",
    "        fdr_president.loc[i,'term_code'] = 0\n",
    "    elif FIRSTINAUG<=fdr_president.loc[i, 'Date']<SECONDINAUG:\n",
    "        fdr_president.loc[i, 'term_code'] = 1\n",
    "    elif SECONDINAUG<=fdr_president.loc[i, 'Date']<THIRDINAUG:\n",
    "        fdr_president.loc[i, 'term_code'] = 2\n",
    "    elif THIRDINAUG<=fdr_president.loc[i, 'Date']<FOURTHINAUG:\n",
    "        fdr_president.loc[i, 'term_code'] = 3\n",
    "    elif FOURTHINAUG<=fdr_president.loc[i,'Date']:\n",
    "        fdr_president.loc[i, 'term_code'] = 4"
   ]
  },
  {
   "cell_type": "code",
   "execution_count": 94,
   "metadata": {},
   "outputs": [],
   "source": [
    "FIRSTDNC = dt.datetime(1932,6,27)\n",
    "SECONDDNC = dt.datetime(1936,6, 23)\n",
    "THIRDDNC = dt.datetime(1940,7,15)\n",
    "FOURTHDNC = dt.datetime(1944,7,19)\n",
    "\n",
    "for i in range(0,len(fdr_president)):\n",
    "    DATE = fdr_president.loc[i, 'Date']\n",
    "    if DATE<FIRSTDNC:\n",
    "        fdr_president.loc[i,'dnc_code'] = 0\n",
    "    elif FIRSTDNC<=DATE<SECONDDNC:\n",
    "        fdr_president.loc[i, 'dnc_code'] = 1\n",
    "        fdr_president.loc[i,'days_since_dnc'] = DATE - FIRSTDNC\n",
    "    elif SECONDDNC<=DATE<THIRDDNC:\n",
    "        fdr_president.loc[i, 'dnc_code'] = 2\n",
    "        fdr_president.loc[i,'days_since_dnc'] = DATE - SECONDDNC\n",
    "    elif THIRDDNC<=DATE<FOURTHDNC:\n",
    "        fdr_president.loc[i, 'dnc_code'] = 3\n",
    "        fdr_president.loc[i,'days_since_dnc'] = DATE - THIRDDNC\n",
    "    elif FOURTHDNC<=DATE:\n",
    "        fdr_president.loc[i, 'dnc_code'] = 4\n",
    "        fdr_president.loc[i,'days_since_dnc'] = DATE - FOURTHDNC\n",
    "\n"
   ]
  },
  {
   "cell_type": "code",
   "execution_count": 95,
   "metadata": {},
   "outputs": [],
   "source": [
    "fdr_president_dnc = fdr_president.append(dnc_df, sort = False)\n",
    "fdr_president_dnc = fdr_president_dnc.sort_values(['Date'])\n",
    "fdr_president_dnc = fdr_president_dnc.reset_index(drop=True)\n",
    "\n",
    "fdr_president_dnc['Year'] = pd.DatetimeIndex(fdr_president_dnc['Date']).year"
   ]
  },
  {
   "cell_type": "code",
   "execution_count": 96,
   "metadata": {},
   "outputs": [
    {
     "data": {
      "text/plain": [
       "<matplotlib.axes._subplots.AxesSubplot at 0x1a4360c810>"
      ]
     },
     "execution_count": 96,
     "metadata": {},
     "output_type": "execute_result"
    },
    {
     "data": {
      "image/png": "[encoded data removed]",
      "text/plain": [
       "<Figure size 432x288 with 1 Axes>"
      ]
     },
     "metadata": {
      "needs_background": "light"
     },
     "output_type": "display_data"
    }
   ],
   "source": [
    "sns.countplot(y= 'term_code', hue = 'categories', data = fdr_president_dnc)\n",
    "\n"
   ]
  },
  {
   "cell_type": "code",
   "execution_count": 97,
   "metadata": {},
   "outputs": [
    {
     "data": {
      "text/plain": [
       "Text(0.5, 1.0, 'Counts per Category per Year')"
      ]
     },
     "execution_count": 97,
     "metadata": {},
     "output_type": "execute_result"
    },
    {
     "data": {
      "image/png": "[encoded data removed]",
      "text/plain": [
       "<Figure size 432x288 with 1 Axes>"
      ]
     },
     "metadata": {
      "needs_background": "light"
     },
     "output_type": "display_data"
    }
   ],
   "source": [
    "fdr_president_dnc.groupby(['Year']).categories.value_counts().unstack().plot()\n",
    "plt.title('Counts per Category per Year')"
   ]
  },
  {
   "cell_type": "code",
   "execution_count": 104,
   "metadata": {},
   "outputs": [
    {
     "data": {
      "text/plain": [
       "CountVectorizer(analyzer='word', binary=False, decode_error='strict',\n",
       "                dtype=<class 'numpy.int64'>, encoding='utf-8', input='content',\n",
       "                lowercase=True, max_df=1.0, max_features=None, min_df=1,\n",
       "                ngram_range=(1, 1), preprocessor=None, stop_words='english',\n",
       "                strip_accents=None, token_pattern='(?u)\\\\b\\\\w\\\\w+\\\\b',\n",
       "                tokenizer=None, vocabulary=None)"
      ]
     },
     "execution_count": 104,
     "metadata": {},
     "output_type": "execute_result"
    }
   ],
   "source": [
    "cv_fit"
   ]
  },
  {
   "cell_type": "code",
   "execution_count": null,
   "metadata": {},
   "outputs": [],
   "source": []
  },
  {
   "cell_type": "markdown",
   "metadata": {},
   "source": [
    "## ANALYSIS"
   ]
  },
  {
   "cell_type": "code",
   "execution_count": 98,
   "metadata": {},
   "outputs": [],
   "source": [
    "dnc_1932_index = np.where(fdr_president_dnc.DNC==1)[0]\n",
    "dnc_1936_index = np.where(fdr_president_dnc.DNC==2)[0]\n",
    "dnc_1940_index = np.where(fdr_president_dnc.DNC==3)[0]\n",
    "dnc_1944_index = np.where(fdr_president_dnc.DNC==4)[0]"
   ]
  },
  {
   "cell_type": "markdown",
   "metadata": {},
   "source": [
    "### Performing the TF/IDF and deleting stopwords"
   ]
  },
  {
   "cell_type": "code",
   "execution_count": 99,
   "metadata": {},
   "outputs": [],
   "source": [
    "cv=CountVectorizer(stop_words='english')\n",
    "fdr_text_processed=[]\n",
    "for i in range(0, len(fdr_president_dnc)):\n",
    "    fdr_text_processed.append(fdr_president_dnc[i:i+1]['Text'].values[0].lower())\n",
    "fdr_texts = [i for i in fdr_text_processed if not i in stopwords.words('english')]\n",
    "\n",
    "cv_fit=cv.fit(fdr_texts)\n",
    "freq=cv_fit.transform(fdr_texts).toarray()\n",
    "length = np.apply_along_axis(np.sum, 1, freq)\n",
    "norm_freq = freq / np.reshape(length, (freq.shape[0], -1))\n",
    "fdr_president_tfidf=pd.DataFrame(norm_freq,columns= cv_fit.get_feature_names())"
   ]
  },
  {
   "cell_type": "markdown",
   "metadata": {},
   "source": [
    "### Performing the Cosine Similarity of Each Document to the Corresponding DNC Party Platform and Returning it in the Respective Column"
   ]
  },
  {
   "cell_type": "code",
   "execution_count": 100,
   "metadata": {},
   "outputs": [],
   "source": [
    "fdr_president_dnc['Similarity_Score_DNC_1932'] = pd.DataFrame(cs(fdr_president_tfidf, fdr_president_tfidf))[dnc_1932_index]\n",
    "fdr_president_dnc['Similarity_Score_DNC_1936'] = pd.DataFrame(cs(fdr_president_tfidf, fdr_president_tfidf))[dnc_1936_index]\n",
    "fdr_president_dnc['Similarity_Score_DNC_1940'] = pd.DataFrame(cs(fdr_president_tfidf, fdr_president_tfidf))[dnc_1940_index]\n",
    "fdr_president_dnc['Similarity_Score_DNC_1944'] = pd.DataFrame(cs(fdr_president_tfidf, fdr_president_tfidf))[dnc_1944_index]\n"
   ]
  },
  {
   "cell_type": "code",
   "execution_count": 101,
   "metadata": {},
   "outputs": [
    {
     "name": "stdout",
     "output_type": "stream",
     "text": [
      "done\n"
     ]
    }
   ],
   "source": [
    "fdr_president_dnc['similarity_score'] = None\n",
    "\n",
    "for i in range (0, len(fdr_president_dnc)):\n",
    "    if (fdr_president_dnc.loc[i, 'dnc_code'] == 1):\n",
    "        fdr_president_dnc.loc[i, 'similarity_score'] = fdr_president_dnc.loc[i, 'Similarity_Score_DNC_1932']\n",
    "    elif( fdr_president_dnc.loc[i, 'dnc_code'] == 2):\n",
    "        fdr_president_dnc.loc[i, 'similarity_score'] = fdr_president_dnc.loc[i, 'Similarity_Score_DNC_1936']\n",
    "    elif (fdr_president_dnc.loc[i, 'dnc_code'] == 3):\n",
    "        fdr_president_dnc.loc[i, 'similarity_score'] = fdr_president_dnc.loc[i, 'Similarity_Score_DNC_1940']\n",
    "    elif (fdr_president_dnc.loc[i, 'dnc_code'] == 4):\n",
    "        fdr_president_dnc.loc[i, 'similarity_score'] = fdr_president_dnc.loc[i, 'Similarity_Score_DNC_1944']\n",
    "print('done')"
   ]
  },
  {
   "cell_type": "code",
   "execution_count": 102,
   "metadata": {},
   "outputs": [],
   "source": [
    "fdr_president_dnc1 = fdr_president_dnc[(fdr_president_dnc['term_code']==1)]\n",
    "fdr_president_dnc2 = fdr_president_dnc[(fdr_president_dnc['term_code']==2)]\n",
    "fdr_president_dnc3 = fdr_president_dnc[(fdr_president_dnc['term_code']==3)]\n",
    "fdr_president_dnc4 = fdr_president_dnc[(fdr_president_dnc['term_code']==4)]\n"
   ]
  },
  {
   "cell_type": "code",
   "execution_count": 136,
   "metadata": {},
   "outputs": [],
   "source": [
    "fdr_president_dnc.similarity_score = fdr_president_dnc.similarity_score.astype(float)\n",
    "fdr_president_dnc['MatPlotDates'] = dates.date2num(fdr_president_dnc['Date'])"
   ]
  },
  {
   "cell_type": "code",
   "execution_count": 145,
   "metadata": {},
   "outputs": [
    {
     "data": {
      "text/plain": [
       "Text(0.5, 1, 'Similarity Score as a Function of Time')"
      ]
     },
     "execution_count": 145,
     "metadata": {},
     "output_type": "execute_result"
    },
    {
     "data": {
      "image/png": "[encoded data removed]",
      "text/plain": [
       "<Figure size 426.125x360 with 1 Axes>"
      ]
     },
     "metadata": {
      "needs_background": "light"
     },
     "output_type": "display_data"
    }
   ],
   "source": [
    "sns.lmplot(x='MatPlotDates', y='similarity_score', hue = 'categories',scatter = False, data = fdr_president_dnc)\n",
    "ax=plt.gca()\n",
    "x_axis = ax.get_xticks()\n",
    "ax.set_xticklabels([dates.num2date(i) for i in x_axis],\n",
    " rotation=50)\n",
    "plt.title('Similarity Score as a Function of Time')"
   ]
  },
  {
   "cell_type": "code",
   "execution_count": 152,
   "metadata": {},
   "outputs": [
    {
     "data": {
      "text/plain": [
       "Text(0, 0.5, 'Similarity Score')"
      ]
     },
     "execution_count": 152,
     "metadata": {},
     "output_type": "execute_result"
    },
    {
     "data": {
      "image/png": "[encoded data removed]",
      "text/plain": [
       "<Figure size 432x288 with 1 Axes>"
      ]
     },
     "metadata": {
      "needs_background": "light"
     },
     "output_type": "display_data"
    }
   ],
   "source": [
    "sns.lineplot(x='Date', y='Similarity_Score_DNC_1932', hue = 'categories', data = fdr_president_dnc1)\n",
    "sns.lineplot(x='Date', y='Similarity_Score_DNC_1936', hue = 'categories', data = fdr_president_dnc2)\n",
    "sns.lineplot(x='Date', y='Similarity_Score_DNC_1940', hue = 'categories', data = fdr_president_dnc3)\n",
    "sns.lineplot(x='Date', y='Similarity_Score_DNC_1944', hue = 'categories', data = fdr_president_dnc4)\n",
    "\n",
    "\n",
    "\n",
    "plt.xticks(rotation=90)\n",
    "\n",
    "plt.title(\"Cosine Similarity Score to the DNC Party Platform Each Document Each Term\")\n",
    "\n",
    "plt.legend(bbox_to_anchor=(1.05, 1), loc=2, borderaxespad=0.)\n",
    "\n",
    "\n",
    "plt.axvline(FIRSTINAUG, 0, color='r')\n",
    "plt.axvline(SECONDINAUG, 0, color='r')\n",
    "plt.axvline(THIRDINAUG, 0, color='r')\n",
    "plt.axvline(FOURTHINAUG, 0, color='r')\n",
    "\n",
    "plt.ylabel('Similarity Score')\n"
   ]
  },
  {
   "cell_type": "code",
   "execution_count": 170,
   "metadata": {},
   "outputs": [],
   "source": [
    "fdr_president_dnc.to_csv('fdr_president_dnc.csv')"
   ]
  },
  {
   "cell_type": "markdown",
   "metadata": {},
   "source": [
    "# VALIDATION"
   ]
  },
  {
   "cell_type": "code",
   "execution_count": 154,
   "metadata": {},
   "outputs": [
    {
     "name": "stdout",
     "output_type": "stream",
     "text": [
      "start\n",
      "done\n"
     ]
    }
   ],
   "source": [
    "print('start')\n",
    "\n",
    "url_2000 = 'https://www.presidency.ucsb.edu/documents/2000-republican-party-platform'\n",
    "url_2004 = 'https://www.presidency.ucsb.edu/documents/2004-republican-party-platform'\n",
    "url_2008 = 'https://www.presidency.ucsb.edu/documents/2008-republican-party-platform'\n",
    "url_2012 = 'https://www.presidency.ucsb.edu/documents/2012-republican-party-platform'\n",
    "\n",
    "rnc_urls = [url_2000, url_2004, url_2008, url_2012]\n",
    "rnc_date = [dt.datetime(2000,7,31), dt.datetime(2004,8,30), dt.datetime(2008,9,1), dt.datetime(2012,8,27)]\n",
    "\n",
    "def rnc_to_dataframe(rnc_urls):\n",
    "\n",
    "    rnc_text=[]\n",
    "\n",
    "\n",
    "    for URL in rnc_urls:\n",
    "        pres_response = requests.get(url=URL)\n",
    "        pres_html = pres_response.text\n",
    "        parsed = BeautifulSoup(pres_html, 'html.parser')\n",
    "        a = parsed.find('div', {'class':'field-docs-content'}).get_text()\n",
    "        rnc_text.append(a)\n",
    "    return (pd.DataFrame({'Date':rnc_date,'Text':rnc_text, 'RNC':list(range(1,5))},index= list(range(0, len(dnc_text)))))\n",
    "\n",
    "\n",
    "rnc_df = rnc_to_dataframe(rnc_urls)\n",
    "\n",
    "fdr_validation= fdr_president_dnc.append(rnc_df, sort = False)\n",
    "fdr_validation = fdr_validation.sort_values(['Date'])\n",
    "fdr_validation = fdr_validation.reset_index(drop=True)\n",
    "print('done')"
   ]
  },
  {
   "cell_type": "code",
   "execution_count": 155,
   "metadata": {},
   "outputs": [],
   "source": [
    "cv=CountVectorizer(stop_words='english')\n",
    "fdr_text_processed=[]\n",
    "for i in range(0, len(fdr_validation)):\n",
    "    fdr_text_processed.append(fdr_validation[i:i+1]['Text'].values[0].lower())\n",
    "fdr_texts = [i for i in fdr_text_processed if not i in stopwords.words('english')]\n",
    "\n",
    "cv_fit=cv.fit(fdr_texts)\n",
    "freq=cv_fit.transform(fdr_texts).toarray()\n",
    "length = np.apply_along_axis(np.sum, 1, freq)\n",
    "norm_freq = freq / np.reshape(length, (freq.shape[0], -1))\n",
    "fdr_validation_tfidf=pd.DataFrame(norm_freq,columns= cv_fit.get_feature_names())"
   ]
  },
  {
   "cell_type": "code",
   "execution_count": 156,
   "metadata": {},
   "outputs": [],
   "source": [
    "rnc_2000_index = np.where(fdr_validation.RNC==1)[0]\n",
    "rnc_2004_index = np.where(fdr_validation.RNC==2)[0]\n",
    "rnc_2008_index = np.where(fdr_validation.RNC==3)[0]\n",
    "rnc_2012_index = np.where(fdr_validation.RNC==4)[0]\n",
    "\n",
    "\n",
    "fdr_validation['Similarity_Score_RNC_2000'] = pd.DataFrame(cs(fdr_validation_tfidf, fdr_validation_tfidf))[rnc_2000_index]\n",
    "fdr_validation['Similarity_Score_RNC_2004'] = pd.DataFrame(cs(fdr_validation_tfidf, fdr_validation_tfidf))[rnc_2004_index]\n",
    "fdr_validation['Similarity_Score_RNC_2008'] = pd.DataFrame(cs(fdr_validation_tfidf, fdr_validation_tfidf))[rnc_2008_index]\n",
    "fdr_validation['Similarity_Score_RNC_2012'] = pd.DataFrame(cs(fdr_validation_tfidf, fdr_validation_tfidf))[rnc_2012_index]\n",
    "\n"
   ]
  },
  {
   "cell_type": "code",
   "execution_count": 158,
   "metadata": {},
   "outputs": [
    {
     "name": "stdout",
     "output_type": "stream",
     "text": [
      "done\n"
     ]
    }
   ],
   "source": [
    "fdr_validation['similarity_score'] = None\n",
    "\n",
    "for i in range (0, len(fdr_validation)):\n",
    "    if (fdr_validation.loc[i, 'dnc_code'] == 1):\n",
    "        fdr_validation.loc[i, 'similarity_score'] = fdr_validation.loc[i, 'Similarity_Score_DNC_1932']\n",
    "    elif( fdr_validation.loc[i, 'dnc_code'] == 2):\n",
    "        fdr_validation.loc[i, 'similarity_score'] = fdr_validation.loc[i, 'Similarity_Score_DNC_1936']\n",
    "    elif (fdr_validation.loc[i, 'dnc_code'] == 3):\n",
    "        fdr_validation.loc[i, 'similarity_score'] = fdr_validation.loc[i, 'Similarity_Score_DNC_1940']\n",
    "    elif (fdr_validation.loc[i, 'dnc_code'] == 4):\n",
    "        fdr_validation.loc[i, 'similarity_score'] = fdr_validation.loc[i, 'Similarity_Score_DNC_1944']\n",
    "print('done')"
   ]
  },
  {
   "cell_type": "code",
   "execution_count": 163,
   "metadata": {},
   "outputs": [
    {
     "name": "stdout",
     "output_type": "stream",
     "text": [
      "done\n"
     ]
    }
   ],
   "source": [
    "fdr_validation ['validation'] = None\n",
    "for i in range (0, len(fdr_validation)):\n",
    "    if (fdr_validation.loc[i,'similarity_score'] != None):\n",
    "        if (fdr_validation.loc[i,'similarity_score']> ((fdr_validation.loc[i,'Similarity_Score_RNC_2000']+fdr_validation.loc[i,'Similarity_Score_RNC_2004']+fdr_validation.loc[i,'Similarity_Score_RNC_2008'] + fdr_validation.loc[i,'Similarity_Score_RNC_2012'])/4)):\n",
    "            fdr_validation.loc[i,'validation']=1\n",
    "        else:\n",
    "            fdr_validation.loc[i,'validation']=0\n",
    "\n",
    "print('done')\n",
    "\n"
   ]
  },
  {
   "cell_type": "code",
   "execution_count": 161,
   "metadata": {},
   "outputs": [
    {
     "name": "stdout",
     "output_type": "stream",
     "text": [
      "done\n"
     ]
    }
   ],
   "source": [
    "fdr_validation ['validation'] = None\n",
    "for i in range (0, len(fdr_validation)):\n",
    "    if (fdr_validation.loc[i,'similarity_score'] != None):\n",
    "        if (((fdr_validation.loc[i,'Similarity_Score_DNC_1936']+fdr_validation.loc[i,'Similarity_Score_DNC_1932']+fdr_validation.loc[i,'Similarity_Score_DNC_1940'] + fdr_validation.loc[i,'Similarity_Score_DNC_1944'])/4)> ((fdr_validation.loc[i,'Similarity_Score_RNC_2000']+fdr_validation.loc[i,'Similarity_Score_RNC_2004']+fdr_validation.loc[i,'Similarity_Score_RNC_2008'] + fdr_validation.loc[i,'Similarity_Score_RNC_2012'])/4)):\n",
    "            fdr_validation.loc[i,'validation']=1\n",
    "        else:\n",
    "            fdr_validation.loc[i,'validation']=0\n",
    "\n",
    "print('done')\n"
   ]
  },
  {
   "cell_type": "code",
   "execution_count": 167,
   "metadata": {},
   "outputs": [
    {
     "data": {
      "text/plain": [
       "0.46219512195121953"
      ]
     },
     "execution_count": 167,
     "metadata": {},
     "output_type": "execute_result"
    }
   ],
   "source": [
    "fdr_validation.validation.value_counts()[1]/fdr_validation.validation.value_counts()[0]\n"
   ]
  },
  {
   "cell_type": "code",
   "execution_count": null,
   "metadata": {},
   "outputs": [],
   "source": []
  }
 ],
 "metadata": {
  "colab": {
   "collapsed_sections": [],
   "name": "Project 2.ipynb",
   "provenance": []
  },
  "kernelspec": {
   "display_name": "Python 3",
   "language": "python",
   "name": "python3"
  },
  "language_info": {
   "codemirror_mode": {
    "name": "ipython",
    "version": 3
   },
   "file_extension": ".py",
   "mimetype": "text/x-python",
   "name": "python",
   "nbconvert_exporter": "python",
   "pygments_lexer": "ipython3",
   "version": "3.7.4"
  }
 },
 "nbformat": 4,
 "nbformat_minor": 1
}
